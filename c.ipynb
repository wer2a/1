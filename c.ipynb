#@title **Create User**
#@markdown Just press the play button, no need to change the default variables.

username = "user" #@param {type:"string"}
password = "root" #@param {type:"string"}


# Creation of user
! sudo useradd -m $username 

# Add user to sudo group
! sudo adduser $username sudo 

# Set password of user to 'root'
! echo '$username:$password' | sudo chpasswd



print("User Created and Configured")

import os
import subprocess


CRP = "DISPLAY= /opt/google/chrome-remote-desktop/start-host --code=\"4/0AeaYSHBvl4GP8mtJxlmw3MNK6X-vSj2MJX5z6FWTQJCE5wE9Aexa3j-SqiiCILuyLFyOaw\" --redirect-url=\"https://remotedesktop.google.com/_/oauthredirect\" --name=$(hostname)" #@param {type:"string"}

#@markdown Enter a pin more or equal to 6 digits
Pin = 123456 #@param {type: "integer"}


class CRD:
    def __init__(self):
        os.system("apt update")
        self.installCRD()



        self.finish()

    @staticmethod
    def installCRD():
        print("Installing Chrome Remote Desktop")
        subprocess.run(['wget', 'https://dl.google.com/linux/direct/chrome-remote-desktop_current_amd64.deb'], stdout=subprocess.PIPE)
        subprocess.run(['dpkg', '--install', 'chrome-remote-desktop_current_amd64.deb'], stdout=subprocess.PIPE)
        subprocess.run(['apt', 'install', '--assume-yes', '--fix-broken'], stdout=subprocess.PIPE)



    @staticmethod
    def finish():
        print("Finalizing")
        os.system(f"adduser {username} chrome-remote-desktop")
        command = f"{CRP} --pin={Pin}"
        os.system(f"su - {username} -c '{command}'")
        os.system("service chrome-remote-desktop start")
        print("Finished Succesfully")


try:
    if username:
        if CRP == "":
            print("Please enter authcode from the given link")
        elif len(str(Pin)) < 6:
            print("Enter a pin more or equal to 6 digits")
        else:
            CRD()
except NameError as e:
    print("username variable not found")
    print("Create a User First")




